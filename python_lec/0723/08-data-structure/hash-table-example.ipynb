{
 "cells": [
  {
   "cell_type": "code",
   "execution_count": 3,
   "metadata": {},
   "outputs": [
    {
     "name": "stdout",
     "output_type": "stream",
     "text": [
      "a\n",
      "{2, 3, 1, 'b', 'c'}\n"
     ]
    }
   ],
   "source": [
    "my_set = {'a', 'b', 'c', 1, 2, 3}\n",
    "element = my_set.pop()\n",
    "print(element)\n",
    "print(my_set)"
   ]
  },
  {
   "cell_type": "markdown",
   "metadata": {},
   "source": [
    "#### 위 코드의 pop 값이 바뀌지 않는 이유\n",
    "- 주피터 노트북에서는 파이썬의 환경이 재실행되지 않기 때문\n",
    "- 해시 함수가 재구성 되지 않아서\n",
    "- pop을 하는 순서는 hash table 상에 배치된 순서"
   ]
  },
  {
   "cell_type": "markdown",
   "metadata": {},
   "source": [
    "## 참고\n",
    "\n",
    "### 해시 테이블 (Hash Table)\n",
    "- 해시 함수를 사용하여 변환한 값을 색인(index)로 삼아 키(key)와 데이터(value)를 저장하는 자료구조\n",
    "  - 데이터를 효율적으로 저장하고 검색하기 위해 사용\n"
   ]
  },
  {
   "cell_type": "markdown",
   "metadata": {},
   "source": [
    "#### 해시 테이블 원리\n",
    "- 키를 해시 함수를 통해 해시 값으로 변환하고, 이 해시 값을 인덱스로 사용하여 데이터를 저장하거나 검색\n",
    "  - 데이터 검색이 매우 빠르게 이루어짐\n",
    "\n",
    "![image](hash.png)\n",
    "\n",
    "- hast function은 파이썬이 재실행 될때마다 갱신됨, 즉 내용 구조가 바뀜\n",
    "- 따라서, 항상 키 값이 해쉬함수가 처음 배정한 자리에 있는 것은 아님"
   ]
  },
  {
   "cell_type": "markdown",
   "metadata": {},
   "source": [
    "#### 해시 (Hash)\n",
    "- 임의의 크기를 가진 데이터(key)를 고정된 크기의 고유한 값(index)으로 변환하는 것\n",
    "- 이렇게 생성된 고유한 값은 주로 해당 데이터를 식별하는 데 사용될 수 있음\n",
    "  - 일종의 \"지문\"과 같은 역할\n",
    "  - 데이터를 고유하게 식별\n",
    "- 파이썬에서 해시 함수를 사용하여 데이터를 해시 값으로 변환하며, 이 해시 값은 정수로 표현됨"
   ]
  },
  {
   "cell_type": "markdown",
   "metadata": {},
   "source": [
    "#### 해시 함수 (Hash function)\n",
    "- 임의의 길이의 데이터를 입력 받아 고정된 길이의 데이터(해시 값)를 출력하는 함수\n",
    "- 주로 해시 테이블 자료구조에 사용되며, 매우 빠른 데이터 검색을 위한 컴퓨터 소프트웨어에서 유용하게 사용"
   ]
  },
  {
   "cell_type": "markdown",
   "metadata": {},
   "source": [
    "#### set의 요소 & dictionary의 키와 해시테이블 관계\n",
    "- 파이썬에서 세트의 요소와 딕셔너리의 키는 해시 테이블을 이용하여 중복되지 않는 고유한 값을 저장함\n",
    "- 세트 내의 각 요소는 해시 함수를 통해 해시 값으로 변환되고, 이 해시 값을 기반으로 해시 테이블에 저장됨\n",
    "- 마찬가지로 딕셔너리의 키는 고유해야 하므로, 키를 해시 함수를 통해 해시 값으로 변환하여 해시 테이블에 저장\n",
    "  - 따라서 딕셔너리의 키는 매우 빠른 탐색 속도를 제공하며, 중복된 값을 허용하지 않음"
   ]
  },
  {
   "cell_type": "markdown",
   "metadata": {},
   "source": [
    "- 해시 값이 바뀌는 이유? 해시 함수가 바뀌기 때문\n",
    "- set를 실행할 때 값이 바뀌는 이유는 해시 함수가 바뀌어 해시 값이 바뀌기 때문\n",
    "- set 실행 시 나오는 순서는 해시 테이블에 저장된 순서대로 출력됨\n",
    "- set이 정수들로만 이루어졌을 때는 정수값을 그대로 해시 값으로 사용"
   ]
  },
  {
   "cell_type": "markdown",
   "metadata": {},
   "source": [
    "#### set의 pop 메서드 예시 - 정수\n",
    "- 정수 값 자체가 곧 해시 값"
   ]
  },
  {
   "cell_type": "code",
   "execution_count": null,
   "metadata": {},
   "outputs": [],
   "source": [
    "my_set = {3, 2, 1, 9, 100, 4, 87, 39, 10, 52}\n",
    "print(my_set.pop())\n",
    "print(my_set.pop())\n",
    "print(my_set.pop())\n",
    "print(my_set.pop())\n",
    "print(my_set.pop())\n",
    "print(my_set.pop())\n",
    "print(my_set.pop())\n",
    "print(my_set.pop())\n",
    "print(my_set.pop())\n",
    "print(my_set.pop())\n",
    "print(my_set)\n",
    "'''\n",
    "1\n",
    "2\n",
    "3\n",
    "100\n",
    "4\n",
    "39\n",
    "9\n",
    "10\n",
    "52\n",
    "87\n",
    "set()\n",
    "'''"
   ]
  },
  {
   "cell_type": "markdown",
   "metadata": {},
   "source": [
    "#### set의 pop 메서드 예시 - 문자열\n",
    "- 반환 값이 매번 다름"
   ]
  },
  {
   "cell_type": "code",
   "execution_count": null,
   "metadata": {},
   "outputs": [],
   "source": [
    "my_str_set = {'a', 'b', 'c', 'd', 'e', 'f', 'g', 'h', 'i', 'j'}\n",
    "# 실행시마다 다름\n",
    "print(my_str_set.pop())\n",
    "print(my_str_set.pop())\n",
    "print(my_str_set.pop())\n",
    "print(my_str_set.pop())\n",
    "print(my_str_set.pop())\n",
    "'''\n",
    "a\n",
    "f\n",
    "h\n",
    "e\n",
    "d\n",
    "\n",
    "c\n",
    "f\n",
    "j\n",
    "a\n",
    "i\n",
    "'''"
   ]
  },
  {
   "cell_type": "markdown",
   "metadata": {},
   "source": [
    "#### 파이썬에서의 해시 함수\n",
    "- 파이선에서 해시 함수의 동작 방식은 객체의 타입에 따라 달라짐\n",
    "- 정수와 문자열은 서로 다른 타입이며, 이들이 해시 값을 계산하는 방식도 다름"
   ]
  },
  {
   "cell_type": "code",
   "execution_count": null,
   "metadata": {},
   "outputs": [],
   "source": [
    "my_str_set = {'a', 'b', 'c', 'd', 'e', 'f', 'g', 'h', 'i', 'j'}\n",
    "print(hash(1)) # 1\n",
    "print(hash(1)) # 1\n",
    "print(hash('a')) # 실행시마다 다름\n",
    "print(hash('a')) # 실행시마다 다름"
   ]
  },
  {
   "cell_type": "markdown",
   "metadata": {},
   "source": [
    "#### 파이썬에서의 해시 함수 - 정수\n",
    "- 같은 정수는 항상 같은 해시 값을 가짐\n",
    "- 해시 테이블에 정수를 저장할 때 효율적인 방법\n",
    "- 예를 들어, hash(1)과 hash(2)는 항상 서로 다른 해시 값을 갖지만, hash(1)은 항상 동일한 해시 값을 갖게 됨"
   ]
  },
  {
   "cell_type": "code",
   "execution_count": null,
   "metadata": {},
   "outputs": [],
   "source": [
    "my_str_set = {'a', 'b', 'c', 'd', 'e', 'f', 'g', 'h', 'i', 'j'}\n",
    "print(hash(1)) # 1\n",
    "print(hash(1)) # 1"
   ]
  },
  {
   "cell_type": "markdown",
   "metadata": {},
   "source": [
    "#### 파이썬에서의 해시 함수 - 문자열\n",
    "- 문자열은 가변적인 길이를 갖고 있고, 문자열에 포함된 각 문자들의 유니코드 코드 포인트 등을 기반으로 해시 값을 계산\n",
    "- 이로 인해 문자열의 해시 값은 실행 시마다 다르게 계산됨"
   ]
  },
  {
   "cell_type": "code",
   "execution_count": null,
   "metadata": {},
   "outputs": [],
   "source": [
    "my_str_set = {'a', 'b', 'c', 'd', 'e', 'f', 'g', 'h', 'i', 'j'}\n",
    "print(hash('a')) # 실행시마다 다름\n",
    "print(hash('a')) # 실행시마다 다름"
   ]
  },
  {
   "cell_type": "markdown",
   "metadata": {},
   "source": [
    "#### set의 pop 메서드의 결과와 해시 테이블의 관계\n",
    "- pop()의 set에서 임의의 요소를 제거하고 반환\n",
    "- 실행할 때마다 다른 요소를 얻는다는 의미에서 \"무작위\"가 아니라</br>\n",
    "**\"임의\"라는 의미에서 \"무작위\"**\n",
    "- = 해시 테이블에 나타나는 순서대로 반환하는 것"
   ]
  },
  {
   "cell_type": "markdown",
   "metadata": {},
   "source": [
    "#### hashable\n",
    "- hash() 함수의 인자로 전달해서 결과를 반환 받을 수 있는 객체\n",
    "- 대부분의 불변형 데이터 타입은 hashable\n",
    "- 단, tuple의 경우 불변형이지만 해시 불가능한 객체를 참조할 때는 tuple 자체도 해시 불가능해짐"
   ]
  },
  {
   "cell_type": "code",
   "execution_count": null,
   "metadata": {},
   "outputs": [],
   "source": [
    "print(hash(1))\n",
    "print(hash(1.0))\n",
    "print(hash('1'))\n",
    "print(hash((1, 2, 3)))\n",
    "\n",
    "# TypeError: unhashable type: 'list'\n",
    "print(hash((1, 2, [3, 4])))"
   ]
  },
  {
   "cell_type": "markdown",
   "metadata": {},
   "source": [
    "#### hashable과 불변성 간의 관계\n",
    "- 해시 테이블의 키는 불변해야 함\n",
    "  - 객체가 생성된 후에 그 값을 변경할 수 없어야 함\n",
    "- 불변 객체는 해시 값이 변하지 않으므로 동일한 값에 대해 일관된 해시 값을 유지할 수 있음\n",
    "- 단, \"hash 가능하다 != 불변하다\""
   ]
  },
  {
   "cell_type": "markdown",
   "metadata": {},
   "source": [
    "#### 가변형 객체가 hashable 하지 않은 이유\n",
    "- 값이 변경될 수 있기 때문에 동일한 객체에 대한 해시 값이 변경될 가능성이 있음 (해시 테이블의 무결성 유지 불가)\n",
    "- 가변형 객체가 변경되면 해시 값이 변경되기 때문에, 같은 객체에 대한 서로 다른 해시 값이 반환될 수 있음 (해시 값의 일관성 유지 불가)"
   ]
  },
  {
   "cell_type": "code",
   "execution_count": null,
   "metadata": {},
   "outputs": [],
   "source": [
    "# TypeError: unhashable type: 'list'\n",
    "print(hash((1, 2, [3, 4])))\n",
    "\n",
    "# TypeError: unhashable type: 'list'\n",
    "print(hash([1, 2, 3]))\n",
    "\n",
    "# TypeError: unhashable type: 'list'\n",
    "my_set = {[1, 2, 3], 1, 2, 3, 4, 5}\n",
    "\n",
    "# TypeError: unhashable type: 'set'\n",
    "my_dict = {{3, 2}: 'a'}"
   ]
  },
  {
   "cell_type": "markdown",
   "metadata": {},
   "source": [
    "#### hashable 객체가 필요한 이유\n",
    "1. 해시 테이블 기반 자료 구조 사용\n",
    "  - set와 dict의 key\n",
    "  - 중복 값 방지\n",
    "  - 빠른 검색과 조회\n",
    "2. 불변성을 통한 일관된 해시 값\n",
    "3. 안정성과 예측 가능성 유지"
   ]
  },
  {
   "cell_type": "markdown",
   "metadata": {},
   "source": [
    "## 참고\n",
    "\n",
    "### 파이썬 문법 규격\n",
    "- 파이썬 공식문서 예시\n",
    "\n",
    "![image.png](image1.png)\n"
   ]
  },
  {
   "cell_type": "markdown",
   "metadata": {},
   "source": [
    "#### BNF\n",
    "- \"Backus-Naur Form\"\n",
    "- 프로그래밍 언어의 문법을 표현하기 위한 표기법"
   ]
  },
  {
   "cell_type": "markdown",
   "metadata": {},
   "source": [
    "#### EBNF\n",
    "- \"Extended Backus-Naur Form\"\n",
    "- BNF를 확장한 표기법\n",
    "- 메타 기호를 추가하여 더 간결하고 표현력이 강해진 형태\n",
    "- 대표적인 EBNF 메타기호\n",
    "\n",
    "![image.png](image2.png)\n",
    "\n",
    "- EBNF 메타기호 [] 사용 예시 : 딕셔너리의 pop 메서드\n",
    "\n",
    "![image.png](image3.png)\n",
    "\n",
    "  - [, default]에서 앞의 ,는 두번째 요소라는 뜻\n",
    "- BNF와 같은 표기법을 사용하는 이유 : 서로 다른 프로그래밍 언어, 데이터 형식, 프로토콜 등의 문법을 통일하여 정의하기 위함"
   ]
  }
 ],
 "metadata": {
  "kernelspec": {
   "display_name": "Python 3",
   "language": "python",
   "name": "python3"
  },
  "language_info": {
   "codemirror_mode": {
    "name": "ipython",
    "version": 3
   },
   "file_extension": ".py",
   "mimetype": "text/x-python",
   "name": "python",
   "nbconvert_exporter": "python",
   "pygments_lexer": "ipython3",
   "version": "3.9.13"
  }
 },
 "nbformat": 4,
 "nbformat_minor": 2
}
