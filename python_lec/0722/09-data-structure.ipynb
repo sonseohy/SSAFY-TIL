{
 "cells": [
  {
   "attachments": {},
   "cell_type": "markdown",
   "metadata": {},
   "source": [
    "# Data Structure"
   ]
  },
  {
   "attachments": {},
   "cell_type": "markdown",
   "metadata": {},
   "source": [
    "## Data Structure\n",
    "### 개요\n",
    "#### 데이터 구조 `Data Structure`\n",
    "- 여러 데이터를 효과적으로 사용, 관리하기 위한 구조 (str, list, dict 등)"
   ]
  },
  {
   "attachments": {},
   "cell_type": "markdown",
   "metadata": {},
   "source": [
    "#### 자료 구조\n",
    "- 컴퓨터 공학에서는 ‘자료 구조’ 라고 함\n",
    "- 각 데이터의 효율적인 저장, 관리를 위한 구조를 나눠 놓은 것\n",
    "    ![image](https://github.com/ragu6963/TIL/assets/32388270/ec3c4025-1305-4ba1-8f7a-fc355c1fa4e3)\n"
   ]
  },
  {
   "attachments": {},
   "cell_type": "markdown",
   "metadata": {},
   "source": [
    "#### 데이터 구조 활용\n",
    "- 문자열, 리스트, 딕셔너리 등 각 데이터 구조의 <span style='color:red;'>메서드</span>를 호출하여 다양한 기능을 활용하기\n"
   ]
  },
  {
   "attachments": {},
   "cell_type": "markdown",
   "metadata": {},
   "source": [
    "### 메서드 `method`\n",
    "- 객체에 속한 함수\n",
    "- 객체의 상태를 조작하거나 동작을 수행\n"
   ]
  },
  {
   "attachments": {},
   "cell_type": "markdown",
   "metadata": {},
   "source": [
    "#### 메서드 특징\n",
    "- 메서드는 클래스(class) 내부에 정의되는 함수\n",
    "- 클래스는 파이썬에서 ‘타입을 표현하는 방법’이며 이미 은연중에 사용해왔음\n",
    "- 예를 들어 help 함수를 통해 str을 호출해보면 class 였다는 것을 확인 가능\n",
    "\n",
    "    ```python\n",
    "    print(help(str))\n",
    "\n",
    "    \"\"\"\n",
    "    Help on class str in module builtins:\n",
    "\n",
    "    class str(object)\n",
    "     |  str(object='') -> str\n",
    "     |  str(bytes_or_buffer[, encoding[, errors]]) -> str\n",
    "     |\n",
    "     |  Create a new string object from the given object. If encoding or\n",
    "     |  errors is specified, then the object must expose a data buffer\n",
    "     |  …\n",
    "    \"\"\"\n",
    "    ```\n",
    "    \n",
    "> 클래스는 후반부 OOP 수업에서 자세히 다룸\n"
   ]
  },
  {
   "attachments": {},
   "cell_type": "markdown",
   "metadata": {},
   "source": [
    "#### 지금 시점에 알아야 할 것\n",
    "메서드는 어딘가(클래스)에 속해 있는 <span style='color:red;'>함수</span>이며,<br>\n",
    "각 데이터 타입별로 다양한 기능을 가진 메서드가 존재"
   ]
  },
  {
   "attachments": {},
   "cell_type": "markdown",
   "metadata": {},
   "source": [
    "#### 메서드 호출 방법\n",
    "- <span style='color:orange;'>데이터 타입 객체</span>.<span style='color:red;'>메서드()</span>\n",
    "```python\n",
    "'hello'.capitalize()\n",
    "```"
   ]
  },
  {
   "attachments": {},
   "cell_type": "markdown",
   "metadata": {},
   "source": [
    "#### 메서드 호출 예시\n",
    "```python\n",
    "# 문자열 메서드 예시\n",
    "print('hello'.capitalize())  # Hello (문자열 맨 앞 글자를 대문자로)\n",
    "\n",
    "\n",
    "# 리스트 메서드 예시\n",
    "numbers = [1, 2, 3]\n",
    "numbers.append(4)\n",
    "\n",
    "print(numbers)  # [1, 2, 3, 4]\n",
    "```"
   ]
  },
  {
   "attachments": {},
   "cell_type": "markdown",
   "metadata": {},
   "source": [
    "#### 실행 해보기"
   ]
  },
  {
   "cell_type": "code",
   "execution_count": null,
   "metadata": {},
   "outputs": [],
   "source": [
    "# 실행 해보기 1\n",
    "print('hello'.capitalize()) \n",
    "\n",
    "\n",
    "numbers = [1, 2, 3]\n",
    "numbers.append(4)\n",
    "\n",
    "print(numbers)"
   ]
  },
  {
   "attachments": {},
   "cell_type": "markdown",
   "metadata": {},
   "source": [
    "## 시퀀스 데이터 구조"
   ]
  },
  {
   "attachments": {},
   "cell_type": "markdown",
   "metadata": {},
   "source": [
    "### 문자열"
   ]
  },
  {
   "attachments": {},
   "cell_type": "markdown",
   "metadata": {},
   "source": [
    "#### 문자열 조회/탐색 및 검증 메서드\n",
    "|        메서드      \t|                                         설명                                        \t|\n",
    "|:------------------:\t|:-----------------------------------------------------------------------------------:\t|\n",
    "|      s.find(x)     \t|     x의   첫 번째 위치를 반환. 없으면,   -1을 반환                                  \t|\n",
    "|      s.index(x)    \t|     x의   첫 번째 위치를 반환. 없으면,   오류 발생                                  \t|\n",
    "|     s.isupper()    \t|     대문자 여부                                                                     \t|\n",
    "|     s.islower()    \t|     소문자 여부                                                                   \t|\n",
    "|     s.isalpha()    \t|     알파벳 문자 여부      *단순 알파벳이 아닌 유니코드 상 Letter (한국어도 포함)    \t|"
   ]
  },
  {
   "cell_type": "markdown",
   "metadata": {},
   "source": [
    "##### .find(x)\n",
    "- x의 첫 번째 위치를 반환. 없으면, -1을 반환\n",
    "    \n",
    "    ```python\n",
    "    print('banana'.find('a')) # 1\n",
    "\n",
    "    print('banana'.find('z')) # -1\n",
    "    ```"
   ]
  },
  {
   "attachments": {},
   "cell_type": "markdown",
   "metadata": {},
   "source": [
    "##### .index(x)\n",
    "- x의 첫 번째 위치를 반환. 없으면, 오류 발생\n",
    "    \n",
    "    ```python\n",
    "    print('banana'.index('a'))  # 1\n",
    "\n",
    "    print('banana'.index('z'))  # ValueError: substring not found\n",
    "    ```"
   ]
  },
  {
   "attachments": {},
   "cell_type": "markdown",
   "metadata": {},
   "source": [
    "##### .isupper(x) / .islower(x)\n",
    "- 문자열이 모두 대문자/소문자로 이루어져 있는지 확인\n",
    "    - is의 특징 : ~가 있는지 없는지, 맞는지 아닌지를 판단, 따라서 반환값이 True / False로 나옴\n",
    "    - 내가 만든 함수가 True / False를 반환하면 함수명에 is를 붙이는 것이 좋음\n",
    "\n",
    "    ```python\n",
    "    string1 = 'HELLO'\n",
    "    string2 = 'Hello'\n",
    "    print(string1.isupper()) # True\n",
    "    print(string2.isupper()) # False\n",
    "    print(string1.islower()) # False\n",
    "    print(string2.islower()) # False\n",
    "    ```"
   ]
  },
  {
   "attachments": {},
   "cell_type": "markdown",
   "metadata": {},
   "source": [
    "##### .isalpha(x)\n",
    "- 문자열이 알파벳으로만 이루어져 있는지 확인\n",
    "- 문자열의 모든 요소가 알파벳으로 이루어져 있는지 확인\n",
    "    ```python\n",
    "    string1 = 'Hello'\n",
    "    string2 = '123'\n",
    "    string3 = '123hi9876'\n",
    "    print(string1.isalpha()) # True\n",
    "    print(string2.isalpha()) # False\n",
    "    print(string3.isalpha()) # False\n",
    "    ```"
   ]
  },
  {
   "attachments": {},
   "cell_type": "markdown",
   "metadata": {},
   "source": [
    "##### 실행 해보기"
   ]
  },
  {
   "cell_type": "markdown",
   "metadata": {},
   "source": [
    "# 실행 해보기 1\n",
    "print('banana'.find('a'))\n",
    "print('banana'.find('z'))"
   ]
  },
  {
   "cell_type": "code",
   "execution_count": null,
   "metadata": {},
   "outputs": [],
   "source": [
    "# 실행 해보기 2\n",
    "print('banana'.index('a')) \n",
    "print('banana'.index('z')) "
   ]
  },
  {
   "cell_type": "code",
   "execution_count": null,
   "metadata": {},
   "outputs": [],
   "source": [
    "# 실행 해보기 3\n",
    "string1 = 'HELLO'\n",
    "string2 = 'Hello'\n",
    "print(string1.isupper())\n",
    "print(string2.isupper())\n",
    "print(string1.islower())\n",
    "print(string2.islower())"
   ]
  },
  {
   "cell_type": "code",
   "execution_count": null,
   "metadata": {},
   "outputs": [],
   "source": [
    "# 실행 해보기 4\n",
    "string1 = 'Hello'\n",
    "string2 = '123'\n",
    "print(string1.isalpha())\n",
    "print(string2.isalpha())"
   ]
  },
  {
   "cell_type": "markdown",
   "metadata": {},
   "source": [
    "#### 문자열 조작 메서드 (새 문자열 반환)\n",
    "-  문자열 원본을 조작하는 것은 X (문자열은 불변의 특성을 가지기 때문)\n",
    "- s.replace(old,   new[,count]) : [,count] 같이 대괄호로 둘러싸인 것은 선택인자\n",
    "\n",
    "\n",
    "|                  메서드                 \t|                                              설명                                            \t|\n",
    "|:---------------------------------------:\t|:--------------------------------------------------------------------------------------------:\t|\n",
    "|       **s.replace(old,   new[,count])**     \t|     바꿀 대상 글자를 새로운 글자로 바꿔서 반환 ([,count]는 몇 번 바꿀지에 대한 인자)                                              \t|\n",
    "|             **s.strip([chars])**            \t|     공백이나 특정 문자를 제거                                                                \t|\n",
    "|     **s.split(sep=None,   maxsplit=-1)**    \t|     공백이나 특정 문자를 기준으로 분리                                                       \t|\n",
    "|       **'separator'.join(iterable)**      \t|     구분자로 iterable(반복가능한 개체)의 문자열을 연결한 문자열을 반환                                           |\n",
    "|              s.capitalize()             \t|     가장   첫 번째   글자를   대문자로   변경                                                \t|\n",
    "|                 s.title()               \t|     문자열 내 띄어쓰기 기준으로 각 단어의 첫 글자는 대문자로,      나머지는 소문자로 변환    \t|\n",
    "|                 s.upper()               \t|     모두   대문자로 변경                                                                     \t|\n",
    "|                 s.lower()               \t|     모두   소문자로 변경                                                                     \t|\n",
    "|               s.swapcase()              \t|     대↔소문자 서로 변경                                                                      \t|"
   ]
  },
  {
   "attachments": {},
   "cell_type": "markdown",
   "metadata": {},
   "source": [
    "##### .replace(old, new[,count])\n",
    "- 바꿀 대상 글자를 새로운 글자로 바꿔서 반환\n",
    "- [,count]는 몇 번 바꿀지에 대한 인자, count 인자를 작성하지 않으면 모든 old 문자들을 변경\n",
    "\n",
    "    ```python\n",
    "    text = 'Hello, world!'\n",
    "    new_text = text.replace('world', 'Python')\n",
    "    print(new_text) # Hello, Python!\n",
    "\n",
    "    text = 'Hello, world! world world'\n",
    "    new_text = text.replace('world', 'Python', 1)\n",
    "    print(new_text) # Hello, Python! world world\n",
    "    ```"
   ]
  },
  {
   "attachments": {},
   "cell_type": "markdown",
   "metadata": {},
   "source": [
    "##### .strip([chars])\n",
    "- 문자열의 시작과 끝에 있는 공백 혹은 지정한 문자를 제거\n",
    "- 아무것도 입력하지 않으면 공백 제거 (.strip())\n",
    "\n",
    "    ```python\n",
    "    text = '   Hello, world!   '\n",
    "    new_text = text.strip()\n",
    "    print(new_text) # 'Hello, world!'\n",
    "    ```"
   ]
  },
  {
   "attachments": {},
   "cell_type": "markdown",
   "metadata": {},
   "source": [
    "##### .split(sep=None, maxsplit=-1)\n",
    "- 지정한 문자를 구분자로 문자열을 분리하여 문자열의 리스트로 반환\n",
    "- 인자를 넣어주지 않으면 공백을 기준으로 분리 (.split())\n",
    "\n",
    "    ```py\n",
    "    text = 'Hello, world!'\n",
    "    words = text.split(',')\n",
    "    print(words) # ['Hello', ' world!'] # ','를 기준으로 나눴으므로 world 앞에 공백이 존재\n",
    "    ```"
   ]
  },
  {
   "cell_type": "markdown",
   "metadata": {},
   "source": [
    "##### ‘separator’.join(iterable)\n",
    "- iterable(반복가능한 개체) 의 문자열을 연결한 문자열을 반환\n",
    "- split과 반대, 구분자(separator)로 리스트(iterable)를 연결\n",
    "\n",
    "    ```py\n",
    "    words = ['Hello', 'world!']\n",
    "    text = '-'.join(words)\n",
    "    print(text) # 'Hello-world!'\n",
    "    ```"
   ]
  },
  {
   "attachments": {},
   "cell_type": "markdown",
   "metadata": {},
   "source": [
    "##### 기타 문자열 조작 메서드\n",
    "- .capitalize() : 맨 앞 문자는 대문자로 바꾸고 나머지는 모두 소문자로 변경\n",
    "- .title() : 첫 문자도 대문자로 바꾸지만 문자열 간에 공백이 있으면 공백 다음 글자를 대문자로 변경\n",
    "- .upper() : 모두 대문자로 변경\n",
    "- .lower() : 모두 소문자로 변경\n",
    "- .swapcase() : 대소문자를 서로 변경, 기존의 대문자는 소문자로, 소문자는 대문자로 변경\n",
    "\n",
    "```python\n",
    "text = 'heLLo, woRld!'\n",
    "new_text1 = text.capitalize()\n",
    "new_text2 = text.title()\n",
    "new_text3 = text.upper()\n",
    "new_text4 = text.swapcase()\n",
    "\n",
    "print(new_text1) # Hello, world!\n",
    "print(new_text2) # Hello, World!\n",
    "print(new_text3) # HELLO, WORLD!\n",
    "print(new_text4) # HEllO, WOrLD!\n",
    "```"
   ]
  },
  {
   "attachments": {},
   "cell_type": "markdown",
   "metadata": {},
   "source": [
    "##### 메서드 이어서 사용하기\n",
    "- 모든 메서드는 이어서 사용 가능 (100% 가능한 것은 X)\n",
    "- 앞 쪽의 결과가 중요\n",
    "\n",
    "```python\n",
    "text = 'heLLo, woRld!'\n",
    "\n",
    "new_text = text.swapcase().replace('l', 'z')\n",
    "\n",
    "print(new_text) # HEzzO, WOrLD!\n",
    "```"
   ]
  },
  {
   "attachments": {},
   "cell_type": "markdown",
   "metadata": {},
   "source": [
    "##### 실행 해보기"
   ]
  },
  {
   "cell_type": "code",
   "execution_count": null,
   "metadata": {},
   "outputs": [],
   "source": [
    "# 실행 해보기 1\n",
    "text = 'Hello, world!'\n",
    "new_text = text.replace('world', 'Python')\n",
    "print(new_text)"
   ]
  },
  {
   "cell_type": "code",
   "execution_count": null,
   "metadata": {},
   "outputs": [],
   "source": [
    "# 실행 해보기 2\n",
    "text = '   Hello, world!   '\n",
    "new_text = text.strip()\n",
    "print(new_text)"
   ]
  },
  {
   "cell_type": "code",
   "execution_count": null,
   "metadata": {},
   "outputs": [],
   "source": [
    "# 실행 해보기 3\n",
    "text = 'Hello, world!'\n",
    "words = text.split(',')\n",
    "print(words)"
   ]
  },
  {
   "cell_type": "code",
   "execution_count": null,
   "metadata": {},
   "outputs": [],
   "source": [
    "# 실행 해보기 4\n",
    "words = ['Hello', 'world!']\n",
    "text = '-'.join(words)\n",
    "print(text)"
   ]
  },
  {
   "cell_type": "code",
   "execution_count": null,
   "metadata": {},
   "outputs": [],
   "source": [
    "# 실행 해보기 5\n",
    "text = 'heLLo, woRld!'\n",
    "new_text1 = text.capitalize()\n",
    "new_text2 = text.title()\n",
    "new_text3 = text.upper()\n",
    "new_text4 = text.swapcase()\n",
    "\n",
    "print(new_text1)\n",
    "print(new_text2)\n",
    "print(new_text3)\n",
    "print(new_text4)"
   ]
  },
  {
   "cell_type": "code",
   "execution_count": null,
   "metadata": {},
   "outputs": [],
   "source": [
    "# 실행 해보기 6\n",
    "text = 'heLLo, woRld!'\n",
    "\n",
    "new_text = text.swapcase().replace('l', 'z')\n",
    "\n",
    "print(new_text)"
   ]
  },
  {
   "attachments": {},
   "cell_type": "markdown",
   "metadata": {},
   "source": [
    "### 리스트\n"
   ]
  },
  {
   "attachments": {},
   "cell_type": "markdown",
   "metadata": {},
   "source": [
    "#### 리스트 값 추가 및 삭제 메서드\n",
    "- 리스트의 원본 자체에 값을 추가하거나 제거 (원본 자체 조작 가능, 리스트는 가변이므로)\n",
    "\n",
    "|          메서드         \t|                                                   설명                                                  \t|\n",
    "|:-----------------------:\t|:-------------------------------------------------------------------------------------------------------:\t|\n",
    "|        L.append(x)      \t|     리스트   마지막에 항목 x를   추가                                                                   \t|\n",
    "|        L.extend(m)      \t|     Iterable m의   모든 항목들을 리스트 끝에 추가 (+=과   같은 기능)                                    \t|\n",
    "|     L.insert(i,   x)    \t|     리스트   인덱스 i에 항목 x를 삽입                                                                   \t|\n",
    "|        L.remove(x)      \t|     리스트   가장 왼쪽에 있는 항목(첫 번째)   x를   제거     항목이 존재하지 않을 경우,   ValueError    \t|\n",
    "|          L.pop()        \t|     리스트   가장 오른쪽에 있는 항목(마지막)을   반환 후 제거                                           \t|\n",
    "|         L.pop(i)        \t|     리스트의 인덱스 i에   있는 항목을 반환 후 제거                                                      \t|\n",
    "|         L.clear()       \t|     리스트의 모든 항목 삭제                                                                             \t|"
   ]
  },
  {
   "attachments": {},
   "cell_type": "markdown",
   "metadata": {},
   "source": [
    "##### .append(x)\n",
    "- 리스트 마지막에 항목 x를 추가\n",
    "\n",
    "    ```python\n",
    "    my_list = [1, 2, 3]\n",
    "    my_list.append(4)\n",
    "    print(my_list) # [1, 2, 3, 4]\n",
    "    print(my_list.append(4)) # None : append의 반환이 없기 때문\n",
    "                            # append는 원본을 이미 바꿨으므로 반환이 필요없음\n",
    "    ```"
   ]
  },
  {
   "attachments": {},
   "cell_type": "markdown",
   "metadata": {},
   "source": [
    "##### .extend(iterable)\n",
    "- 리스트에 다른 반복 가능한 객체의 모든 항목을 추가\n",
    "- iterable을 넣지 않으면 오류 발생\n",
    "    \n",
    "    ```py\n",
    "    my_list = [1, 2, 3]\n",
    "    my_list.extend([4, 5, 6])\n",
    "    print(my_list) # [1, 2, 3, 4, 5, 6]\n",
    "\n",
    "    my_list = [1, 2, 3]\n",
    "    my_list.extend(5) # TypeError\n",
    "    my_list.extend([5]) # 오류 발생 X\n",
    "    print(my_list)  # [1, 2, 3, 5] \n",
    "    \n",
    "    my_list.append([9, 9, 9]) # 리스트를 통째로 넣는 방법\n",
    "    print(my_list)\n",
    "\n",
    "    my_list.append([9, 9, 9], 1, 2) # 인자를 한개만 받을 수 있어 오류 발생\n",
    "    my_list.extend([4, 5, 6], [7, 8, 9]) # 인자를 한개만 받을 수 있어 오류 발생\n",
    "    ```"
   ]
  },
  {
   "attachments": {},
   "cell_type": "markdown",
   "metadata": {},
   "source": [
    "##### .insert(i, x)\n",
    "- 리스트의 지정한 인덱스 I 위치에 항목 x를 삽입\n",
    "    \n",
    "    ```python\n",
    "    my_list = [1, 2, 3]\n",
    "    my_list.insert(1, 5)\n",
    "    print(my_list) # [1, 5, 2, 3]\n",
    "    ```"
   ]
  },
  {
   "attachments": {},
   "cell_type": "markdown",
   "metadata": {},
   "source": [
    "##### .remove(x)\n",
    "- 리스트에서 첫 번째로 일치하는 항목을 삭제\n",
    "    \n",
    "    ```python\n",
    "    my_list = [1, 2, 3]\n",
    "    my_list.remove(2)\n",
    "    print(my_list)  # [1, 3]\n",
    "\n",
    "    my_list = [1, 2, 3, 2, 2]\n",
    "    my_list.remove(2)\n",
    "    print(my_list) # [1, 3, 2, 2] 첫번째 2만 제거\n",
    "    ```"
   ]
  },
  {
   "attachments": {},
   "cell_type": "markdown",
   "metadata": {},
   "source": [
    "##### .pop(i)\n",
    "- 리스트에서 지정한 인덱스의 항목을 제거하고 반환\n",
    "작성하지 않을 경우 마지막 항목을 제거 \n",
    "\n",
    "    ```py\n",
    "    my_list = [1, 2, 3, 4, 5]\n",
    "    \n",
    "    item1 = my_list.pop()\n",
    "    item2 = my_list.pop(0) # 0번째 인덱스를 지우는 것\n",
    "    \n",
    "    print(item1) # 5\n",
    "    print(item2) # 1\n",
    "    print(my_list) # [2, 3, 4]\n",
    "    ```"
   ]
  },
  {
   "attachments": {},
   "cell_type": "markdown",
   "metadata": {},
   "source": [
    "##### .clear()\n",
    "- 리스트의 모든 항목을 삭제\n",
    "\n",
    "    ```py\n",
    "    my_list = [1, 2, 3]\n",
    "    my_list.clear()\n",
    "    print(my_list) # []\n",
    "    ```"
   ]
  },
  {
   "attachments": {},
   "cell_type": "markdown",
   "metadata": {},
   "source": [
    "##### 실행 해보기"
   ]
  },
  {
   "cell_type": "code",
   "execution_count": null,
   "metadata": {},
   "outputs": [],
   "source": [
    "# 실행 해보기 1\n",
    "my_list = [1, 2, 3]\n",
    "my_list.append(4)\n",
    "print(my_list)"
   ]
  },
  {
   "cell_type": "code",
   "execution_count": null,
   "metadata": {},
   "outputs": [],
   "source": [
    "# 실행 해보기 2\n",
    "my_list = [1, 2, 3]\n",
    "my_list.extend([4, 5, 6])\n",
    "print(my_list)"
   ]
  },
  {
   "cell_type": "code",
   "execution_count": null,
   "metadata": {},
   "outputs": [],
   "source": [
    "# 실행 해보기 3\n",
    "my_list = [1, 2, 3]\n",
    "my_list.insert(1, 5)\n",
    "print(my_list)"
   ]
  },
  {
   "cell_type": "code",
   "execution_count": null,
   "metadata": {},
   "outputs": [],
   "source": [
    "# 실행 해보기 4\n",
    "my_list = [1, 2, 3]\n",
    "my_list.remove(2)\n",
    "print(my_list)"
   ]
  },
  {
   "cell_type": "code",
   "execution_count": null,
   "metadata": {},
   "outputs": [],
   "source": [
    "# 실행 해보기 5\n",
    "my_list = [1, 2, 3, 4, 5]\n",
    "    \n",
    "item1 = my_list.pop()\n",
    "item2 = my_list.pop(0)\n",
    "    \n",
    "print(item1)\n",
    "print(item2)\n",
    "print(my_list)"
   ]
  },
  {
   "cell_type": "code",
   "execution_count": null,
   "metadata": {},
   "outputs": [],
   "source": [
    "# 실행 해보기 6\n",
    "my_list = [1, 2, 3]\n",
    "my_list.clear()\n",
    "print(my_list) "
   ]
  },
  {
   "cell_type": "markdown",
   "metadata": {},
   "source": [
    "#### 리스트 탐색 및 정렬 메서드\n",
    "|               문법              \t|                                   설명                                 \t|\n",
    "|:-------------------------------:\t|:----------------------------------------------------------------------:\t|\n",
    "|     L.index(x)    \t|     리스트에   있는 항목 중 가장 왼쪽에 있는 항목 x의 인덱스를 반환    \t|\n",
    "|            L.count(x)           \t|     리스트에서 항목   x의 개수를 반환                                  \t|\n",
    "|            **L.reverse()**          \t|     리스트의 순서를 역순으로 변경 (정렬 X)|\n",
    "|             **L.sort()**            \t|     리스트를 정렬 (매개변수   이용가능, 오름/내림차순 결정)                                \t|"
   ]
  },
  {
   "attachments": {},
   "cell_type": "markdown",
   "metadata": {},
   "source": [
    "##### .index(x)\n",
    "- 리스트에서 첫 번째로 일치하는 항목의 인덱스를 반환\n",
    "    \n",
    "    ```python\n",
    "    my_list = [1, 2, 3]\n",
    "    index = my_list.index(2)\n",
    "    print(index)  # 1\n",
    "    ```"
   ]
  },
  {
   "attachments": {},
   "cell_type": "markdown",
   "metadata": {},
   "source": [
    "##### .count(x)\n",
    "- 리스트에서 항목 x가 등장하는 횟수를 반환\n",
    "\n",
    "    ```py\n",
    "    my_list = [1, 2, 2, 3, 3, 3]\n",
    "    count = my_list.count(3)\n",
    "    print(count)  # 3\n",
    "    ```"
   ]
  },
  {
   "cell_type": "markdown",
   "metadata": {},
   "source": [
    "##### .reverse()\n",
    "- 리스트의 순서를 역순으로 변경(정렬 X)\n",
    "- 변수에 따로 할당하지 않는 이유? 원본을 뒤집었기 때문에 새로운 리스트를 반환할 필요 없기 때문\n",
    "- reverse의 반환값 없음 (원본을 뒤집었으므로)\n",
    "\n",
    "    ```py\n",
    "    my_list = [1, 3, 2, 8, 1, 9]\n",
    "    my_list.reverse()\n",
    "    print(my_list)  # [9, 1, 8, 2, 3, 1]\n",
    "    print(my_list.reverse()) # None\n",
    "    ```\n"
   ]
  },
  {
   "attachments": {},
   "cell_type": "markdown",
   "metadata": {},
   "source": [
    "##### .sort()\n",
    "- 원본 리스트를 오름차순으로 정렬\n",
    "\n",
    "    ```python\n",
    "    my_list = [3, 2, 1]\n",
    "    my_list.sort()\n",
    "    print(my_list)  # [1, 2, 3]\n",
    "\n",
    "    # 내림차순(매개변수 활용)\n",
    "    my_list.sort(reverse=True)\n",
    "    print(my_list)  # [3, 2, 1]\n",
    "    ```"
   ]
  },
  {
   "attachments": {},
   "cell_type": "markdown",
   "metadata": {},
   "source": [
    "##### 실행 해보기"
   ]
  },
  {
   "cell_type": "code",
   "execution_count": null,
   "metadata": {},
   "outputs": [],
   "source": [
    "# 실행 해보기 1\n",
    "my_list = [1, 2, 3]\n",
    "index = my_list.index(2)\n",
    "print(index) "
   ]
  },
  {
   "cell_type": "code",
   "execution_count": null,
   "metadata": {},
   "outputs": [],
   "source": [
    "# 실행 해보기 2\n",
    "my_list = [1, 2, 2, 3, 3, 3]\n",
    "count = my_list.count(3)\n",
    "print(count)"
   ]
  },
  {
   "cell_type": "code",
   "execution_count": null,
   "metadata": {},
   "outputs": [],
   "source": [
    "# 실행 해보기 3\n",
    "my_list = [3, 2, 1]\n",
    "my_list.sort()\n",
    "print(my_list) \n",
    "\n",
    "# 내림차순\n",
    "my_list.sort(reverse=True)\n",
    "print(my_list) "
   ]
  },
  {
   "cell_type": "code",
   "execution_count": null,
   "metadata": {},
   "outputs": [],
   "source": [
    "# 실행 해보기 4\n",
    "my_list = [1, 3, 2, 8, 1, 9]\n",
    "my_list.reverse()\n",
    "print(my_list) "
   ]
  },
  {
   "attachments": {},
   "cell_type": "markdown",
   "metadata": {},
   "source": [
    "## 비시퀀스 데이터 구조"
   ]
  },
  {
   "attachments": {},
   "cell_type": "markdown",
   "metadata": {},
   "source": [
    "### 세트 `set`\n",
    "- 고유한 항목들의 정렬되지 않은 컬렉션\n",
    "- 세트 주의사항 : my_set = {'a', 'b', 'c', 1, 2, 3}에서 두번째 요소는 'b'다? (X)\n",
    "- 세트에는 순서가 없으므로 'b'를 두번재 요소라고 할 수 없음"
   ]
  },
  {
   "attachments": {},
   "cell_type": "markdown",
   "metadata": {},
   "source": [
    "#### 세트 메서드\n",
    "|           메서드          \t|                                설명                               \t|\n",
    "|:-------------------------:\t|:-----------------------------------------------------------------:\t|\n",
    "|        **s.add(x)**        \t|     세트 s에 항목   x를 추가. 이미   x가 있다면 변화 없음         \t|\n",
    "|          s.clear()        \t|     세트 s의   모든 항목을   제거                                 \t|\n",
    "|       **s.remove(x)**     \t|     세트 s에서   항목 x를 제거. 항목   x가 없을 경우 Key error    \t|\n",
    "|           s.pop()         \t|     세트 s에서   랜덤하게 항목을 반환하고,   해당 항목을 제거     \t|\n",
    "|        s.discard(x)       \t|     세트 s에서   항목 x를 제거                                    \t|\n",
    "|     s.update(iterable)    \t|     세트 s에   다른 iterable 요소를   추가                        \t|"
   ]
  },
  {
   "cell_type": "markdown",
   "metadata": {},
   "source": [
    "##### .add(x)\n",
    "- 세트에 x를 추가 \n",
    "- 4가 마지막에 추가되지 않음, set는 순서가 없기 때문에 아무 위치에 값을 추가\n",
    "\n",
    "    ```python\n",
    "    my_set = {'a', 'b', 'c', 1, 2, 3}\n",
    "\n",
    "    my_set.add(4)\n",
    "    print(my_set)  # {1, 'b', 3, 2, 'c', 4, 'a’}\n",
    "    \n",
    "    my_set.add(4)\n",
    "    print(my_set)  # {1, 4, 'b', 3, 2, 'c', 'a’}\n",
    "    ```"
   ]
  },
  {
   "attachments": {},
   "cell_type": "markdown",
   "metadata": {},
   "source": [
    "##### .clear()\n",
    "- 세트의 모든 항목을 제거\n",
    "\n",
    "    ```py\n",
    "    my_set = {'a', 'b', 'c', 1, 2, 3}\n",
    "    \n",
    "    my_set.clear()\n",
    "    print(my_set)  # set() : 빈세트는 항상 이런 형태로 출력, 중괄호 {}로 출력되지 않음\n",
    "    ```"
   ]
  },
  {
   "cell_type": "markdown",
   "metadata": {},
   "source": [
    "##### .remove(x)\n",
    "- 세트에서 항목 x를 제거\n",
    "\n",
    "    ```python\n",
    "    my_set = {'a', 'b', 'c', 1, 2, 3}\n",
    "    \n",
    "    my_set.remove(2)\n",
    "    print(my_set)  # {'b', 1, 3, 'c', 'a'}\n",
    "    \n",
    "    my_set.remove(10) # 없는 요소를 remove로 제거하려고 하면 error 발생\n",
    "    print(my_set)  # KeyError\n",
    "    ```"
   ]
  },
  {
   "cell_type": "markdown",
   "metadata": {},
   "source": [
    "##### .discard()\n",
    "- 세트 s에서 항목 x를 제거. remove와 달리 에러 없음\n",
    "\n",
    "    ```python\n",
    "    my_set = {1, 2, 3}\n",
    "    \n",
    "    my_set.discard(2)\n",
    "    print(my_set)  # {1, 3, 'a', 'c', 'b’}\n",
    "    \n",
    "    my_set.discard(10) # 아무일도 일어나지 않음\n",
    "    print(my_set.discard(10)) # None : 반환값도 없음\n",
    "    ```"
   ]
  },
  {
   "cell_type": "markdown",
   "metadata": {},
   "source": [
    "##### .pop()\n",
    "- 세트에서 <span style='color:red;'>임의의</span> 요소를 제거하고 <span style='color:red;'>반환</span>\n",
    "\n",
    "    ```py\n",
    "    my_set = {'a', 'b', 'c', 1, 2, 3}\n",
    "    \n",
    "    element = my_set.pop()\n",
    "    print(element)  # 1\n",
    "    print(my_set)  # {2, 3, 'b', 'a', 'c'}\n",
    "    ```"
   ]
  },
  {
   "cell_type": "markdown",
   "metadata": {},
   "source": [
    "##### .update(iterable)\n",
    "- 세트에 다른 iterable 요소를 추가\n",
    "\n",
    "    ```py\n",
    "    my_set = {'a', 'b', 'c', 1, 2, 3}\n",
    "    \n",
    "    my_set.update([1, 4, 5])\n",
    "    print(my_set)  # {1, 2, 3, 'c', 4, 5, 'b', 'a'}\n",
    "    ```"
   ]
  },
  {
   "attachments": {},
   "cell_type": "markdown",
   "metadata": {},
   "source": [
    "##### 실행 해보기"
   ]
  },
  {
   "cell_type": "code",
   "execution_count": null,
   "metadata": {},
   "outputs": [],
   "source": [
    "# 실행 해보기 1\n",
    "my_set = {'a', 'b', 'c', 1, 2, 3}\n",
    "\n",
    "my_set.add(4)\n",
    "print(my_set) \n",
    "                  \n",
    "my_set.add(4)\n",
    "print(my_set)"
   ]
  },
  {
   "cell_type": "code",
   "execution_count": null,
   "metadata": {},
   "outputs": [],
   "source": [
    "# 실행 해보기 2\n",
    "my_set = {'a', 'b', 'c', 1, 2, 3}\n",
    "\n",
    "my_set.clear()\n",
    "print(my_set)"
   ]
  },
  {
   "cell_type": "code",
   "execution_count": null,
   "metadata": {},
   "outputs": [],
   "source": [
    "# 실행 해보기 3\n",
    "my_set = {'a', 'b', 'c', 1, 2, 3}\n",
    "\n",
    "my_set.remove(2)\n",
    "print(my_set) \n",
    "\n",
    "my_set.remove(10)\n",
    "print(my_set) "
   ]
  },
  {
   "cell_type": "code",
   "execution_count": null,
   "metadata": {},
   "outputs": [],
   "source": [
    "# 실행 해보기 4\n",
    "my_set = {1, 2, 3}\n",
    "\n",
    "my_set.discard(2)\n",
    "print(my_set)\n",
    "\n",
    "my_set.discard(10)"
   ]
  },
  {
   "cell_type": "code",
   "execution_count": null,
   "metadata": {},
   "outputs": [],
   "source": [
    "# 실행 해보기 5 \n",
    "my_set = {'a', 'b', 'c', 1, 2, 3}\n",
    "\n",
    "element = my_set.pop()\n",
    "\n",
    "print(element)\n",
    "print(my_set) "
   ]
  },
  {
   "cell_type": "code",
   "execution_count": null,
   "metadata": {},
   "outputs": [],
   "source": [
    "# 실행 해보기 6 \n",
    "my_set = {'a', 'b', 'c', 1, 2, 3}\n",
    "\n",
    "my_set.update([1, 4, 5])\n",
    "print(my_set)"
   ]
  },
  {
   "attachments": {},
   "cell_type": "markdown",
   "metadata": {},
   "source": [
    "#### 세트의 집합 메서드\n",
    "- 연산자의 형태로 사용해도 메서드와 결과는 같음\n",
    "\n",
    "|              메서드            \t|                                         설명                                       \t|         연산자        \t|\n",
    "|:------------------------------:\t|:----------------------------------------------------------------------------------:\t|:---------------------:\t|\n",
    "|      set1.difference(set2)     \t|        set1에는 들어있지만 set2에는      없는   항목으로 세트를 생성 후 반환 (차집합 개념) \t|      set1   – set2    \t|\n",
    "|     set1.intersection(set2)    \t|           set1과 set2 모두   들어있는 항목으로      세트를   생성 후 반환 (교집합 개념)  \t|     set1   & set 2    \t|\n",
    "|       set1.issubset(set2)      \t|               set1의 항목이 모두 set2에 들어있으면      True를   반환 (포함관계)   \t|     set1   <= set2    \t|\n",
    "|      set1.issuperset(set2)     \t|               set1가 set2의   항목을 모두 포함하면      True를   반환              \t|     set1   >= set2    \t|\n",
    "|         set1.union(set2)       \t|     set1 또는 set2에(혹은   둘 다) 들어있는      항목으로   세트를 생성 후 반환 (합집합 개념)\t|     set1   \\| set2    \t|"
   ]
  },
  {
   "attachments": {},
   "cell_type": "markdown",
   "metadata": {},
   "source": [
    "##### 세트의 집합 메서드\n",
    "```py\n",
    "set1 = {0, 1, 2, 3, 4}\n",
    "set2 = {1, 3, 5, 7, 9}\n",
    "\n",
    "print(set1.difference(set2))  # {0, 2, 4}\n",
    "print(set1.intersection(set2))  # {1, 3}\n",
    "print(set1.issubset(set2))  # False\n",
    "print(set1.issuperset(set2))  # False\n",
    "print(set1.union(set2))  # {0, 1, 2, 3, 4, 5, 7, 9}\n",
    "```"
   ]
  },
  {
   "attachments": {},
   "cell_type": "markdown",
   "metadata": {},
   "source": [
    "##### 실행 해보기"
   ]
  },
  {
   "cell_type": "code",
   "execution_count": null,
   "metadata": {},
   "outputs": [],
   "source": [
    "# 실행 해보기 1\n",
    "set1 = {0, 1, 2, 3, 4}\n",
    "set2 = {1, 3, 5, 7, 9}\n",
    "\n",
    "print(set1.difference(set2))  \n",
    "print(set1.intersection(set2))  \n",
    "print(set1.issubset(set2))  \n",
    "print(set1.issuperset(set2))  \n",
    "print(set1.union(set2))  "
   ]
  },
  {
   "cell_type": "code",
   "execution_count": null,
   "metadata": {},
   "outputs": [],
   "source": [
    "set1 = {0, 1, 2, 3, 4}\n",
    "set2 = {1, 3, 5, 7, 9}\n",
    "set3 = {0, 1}\n",
    "\n",
    "print(set1.issubset(set2))\n",
    "print(set3.issubset(set1))"
   ]
  },
  {
   "attachments": {},
   "cell_type": "markdown",
   "metadata": {},
   "source": [
    "### 딕셔너리 `dictionary`\n",
    "- 고유한 항목들의 정렬되지 않은 컬렉션\n"
   ]
  },
  {
   "attachments": {},
   "cell_type": "markdown",
   "metadata": {},
   "source": [
    "#### 딕셔너리 메서드\n",
    "|            메서드           \t|                                                                                설명                                                                              \t|\n",
    "|:---------------------------:\t|:----------------------------------------------------------------------------------------------------------------------------------------------------------------:\t|\n",
    "|           D.clear()         \t|     딕셔너리 D의   모든 키/값 쌍을 제거                                                                                                                          \t|\n",
    "|         **D.get(k)**        \t|     키 k에   연결된 값을 반환 (키가 없으면 None을 반환)                                                                                                          \t|\n",
    "|       **D.get(k,   v)**     \t|     키 k에   연결된 값을 반환하거나 키가 없으면 기본 값으로 v를 반환                                                                                             \t|\n",
    "|         **D.keys()**         \t|     딕셔너리 D의   키를 모은 객체를 반환                                                                                                                         \t|\n",
    "|        **D.values()**       \t|     딕셔너리 D의   값을 모은 객체를 반환                                                                                                                         \t|\n",
    "|         **D.items()**       \t|     딕셔너리 D의   키/값 쌍을 모은 객체를 반환                                                                                                                   \t|\n",
    "|         **D.pop(k)**        \t|     딕셔너리 D에서   키 k를 제거하고 연결됐던 값을 반환 (없으면   오류)                                                                                          \t|\n",
    "|         D.pop(k,   v)       \t|     딕셔너리 D에서   키 k를 제거하고 연결됐던 값을 반환 (없으면   v를 반환)                                                                                      \t|\n",
    "|        D.setdefault(k)      \t|     딕셔너리 D에서   키 k와 연결된 값을 반환                                                                                                                     \t|\n",
    "|     D.setdefault(k,   v)    \t|     딕셔너리 D에서   키 k와 연결된 값을 반환     k가   D의 키가 아니면 값 v와   연결한 키 k를 D에   추가하고 v를 반환                                            \t|\n",
    "|        D.update(other)      \t|     other 내 각 키에 대해 D에   있는 키면 D에 있는 그 키의 값을 other에 있는 값으로 대체.     other에 있는 각 키에 대해 D에   없는 키면 키/값 쌍을 D에   추가    \t|"
   ]
  },
  {
   "attachments": {},
   "cell_type": "markdown",
   "metadata": {},
   "source": [
    "##### .clear()\n",
    "- 딕셔너리 D의 모든 키/값 쌍을 제거\n",
    "\n",
    "    ```py\n",
    "    person = {'name': 'Alice', 'age': 25}\n",
    "    person.clear()\n",
    "    print(person)  # {}\n",
    "    ```"
   ]
  },
  {
   "attachments": {},
   "cell_type": "markdown",
   "metadata": {},
   "source": [
    "##### .get(key[,default])\n",
    "- 키 연결된 값을 반환하거나 키가 없으면 None 혹은 기본 값을 반환\n",
    "- 키가 없으면 에러를 발생시키는데 .get을 사용하면 키가 없을 때 기본값 [,default] 혹은 None을 반환함 (에러 발생시키지 X)\n",
    "\n",
    "    ```py\n",
    "    person = {'name': 'Alice', 'age': 25}\n",
    "\n",
    "    print(person.get('name'))  # Alice\n",
    "    print(person.get('country'))  # None\n",
    "    print(person.get('country', 'Unknown'))  # Unknown\n",
    "\n",
    "    print(person['country']) # 9번째 줄과 동일한 코드이지만 키가 없을 때 KeyError 발생\n",
    "    ```"
   ]
  },
  {
   "attachments": {},
   "cell_type": "markdown",
   "metadata": {},
   "source": [
    "##### .keys()\n",
    "- 딕셔너리 키를 모은 객체를 반환\n",
    "\n",
    "    ```python\n",
    "    person = {'name': 'Alice', 'age': 25}\n",
    "    print(person.keys())  # dict_keys(['name', 'age’])\n",
    "\n",
    "    for k in person.keys():\n",
    "        print(k)\n",
    "    \"\"\"\n",
    "    name\n",
    "    age\n",
    "    \"\"\"\n",
    "    ```"
   ]
  },
  {
   "attachments": {},
   "cell_type": "markdown",
   "metadata": {},
   "source": [
    "##### .values()\n",
    "- 딕셔너리 값을 모은 객체를 반환\n",
    "\n",
    "    ```py\n",
    "    person = {'name': 'Alice', 'age': 25}\n",
    "    print(person.keys())  # dict_keys(['name', 'age’])\n",
    "\n",
    "    for v in person.values():\n",
    "        print(v)\n",
    "    \"\"\"\n",
    "    Alice\n",
    "    25\n",
    "    \"\"\"\n",
    "    ```"
   ]
  },
  {
   "attachments": {},
   "cell_type": "markdown",
   "metadata": {},
   "source": [
    "##### .items()\n",
    "- 딕셔너리 키/값 쌍을 모은 객체를 반환\n",
    "- 키/값 쌍이 튜플로 묶임\n",
    "\n",
    "    ```python\n",
    "    person = {'name': 'Alice', 'age': 25}\n",
    "    \n",
    "    print(person.items())  # dict_items([('name', 'Alice'), ('age', 25)])\n",
    "    # 임시변수를 2개 사용해 언패킹하여 키, 값을 활용 가능\n",
    "    for k, v in person.items():\n",
    "        print(k, v)\n",
    "    \"\"\"\n",
    "    name Alice\n",
    "    age 25\n",
    "    \"\"\"\n",
    "    ```"
   ]
  },
  {
   "attachments": {},
   "cell_type": "markdown",
   "metadata": {},
   "source": [
    "##### .pop(key[,default])\n",
    "- 키를 제거하고 연결됐던 값을 반환 (없으면 에러나 default 를 반환)\n",
    "- 제거하고자 하는 키를 인자로 넣어주어야 함\n",
    "\n",
    "    ```py\n",
    "    person = {'name': 'Alice', 'age': 25}\n",
    "    \n",
    "    print(person.pop('age'))  # 25 (연결됐던 값 반환)\n",
    "    print(person)  # {'name': 'Alice'}\n",
    "    print(person.pop('country', None))  # None\n",
    "    print(person.pop('country'))  # KeyError\n",
    "    ```"
   ]
  },
  {
   "attachments": {},
   "cell_type": "markdown",
   "metadata": {},
   "source": [
    "##### .setdefault(key[,default])\n",
    "- 키와 연결된 값을 반환 (get 메서드와 여기까지 동일)<br> \n",
    "키가 없다면 default와 연결한 키를 딕셔너리에 추가하고 default를 반환\n",
    "\n",
    "    ```python\n",
    "    person = {'name': 'Alice', 'age': 25}\n",
    "\n",
    "    print(person.setdefault('country', 'KOREA'))  # KOREA (추가된 값을 반환)\n",
    "    print(person)  # {'name': 'Alice', 'age': 25, 'country': 'KOREA'}\n",
    "    ```"
   ]
  },
  {
   "attachments": {},
   "cell_type": "markdown",
   "metadata": {},
   "source": [
    "##### .update([other])\n",
    "- [other]는 보통 여러개의 인자를 추가할 수 있다는 뜻\n",
    "- other가 제공하는 키/값 쌍으로 딕셔너리를 갱신 <br>\n",
    "기존 키는 덮어씀(값 갱신)\n",
    "\n",
    "    ```py\n",
    "    person = {'name': 'Alice', 'age': 25}\n",
    "    other_person = {'name': 'Jane', 'gender': 'Female'}\n",
    "\n",
    "    # 딕셔너리 자체를 인자로 넣는 방법\n",
    "    person.update(other_person)\n",
    "    print(person)  # {'name': 'Jane', 'age': 25, 'gender': 'Female'}\n",
    "\n",
    "    # 키-값 형식, 키워드 인자로 갱신하는 방법\n",
    "    person.update(age=50)\n",
    "    print(person)  # {'name': 'Jane', 'age': 50, 'gender': 'Female'}\n",
    "\n",
    "    person.update(country='KOREA')\n",
    "    print(person)  # {'name': 'Jane', 'age': 50, 'gender': 'Female', 'country': 'KOREA'}\n",
    "    ```\n"
   ]
  },
  {
   "attachments": {},
   "cell_type": "markdown",
   "metadata": {},
   "source": [
    "##### 실행 해보기"
   ]
  },
  {
   "cell_type": "code",
   "execution_count": null,
   "metadata": {},
   "outputs": [],
   "source": [
    "# 실행 해보기 1\n",
    "person = {'name': 'Alice', 'age': 25}\n",
    "person.clear()\n",
    "print(person)"
   ]
  },
  {
   "cell_type": "code",
   "execution_count": null,
   "metadata": {},
   "outputs": [],
   "source": [
    "# 실행 해보기 2\n",
    "person = {'name': 'Alice', 'age': 25}\n",
    "\n",
    "print(person.get('name')) \n",
    "print(person.get('country')) \n",
    "print(person.get('country', 'Unknown')) "
   ]
  },
  {
   "cell_type": "code",
   "execution_count": null,
   "metadata": {},
   "outputs": [],
   "source": [
    "# 실행 해보기 3\n",
    "person = {'name': 'Alice', 'age': 25}\n",
    "print(person.keys())\n",
    "for k in person.keys():\n",
    "    print(k)"
   ]
  },
  {
   "cell_type": "code",
   "execution_count": null,
   "metadata": {},
   "outputs": [],
   "source": [
    "# 실행 해보기 4\n",
    "person = {'name': 'Alice', 'age': 25}\n",
    "print(person.keys()) \n",
    "for v in person.values():\n",
    "    print(v)"
   ]
  },
  {
   "cell_type": "code",
   "execution_count": null,
   "metadata": {},
   "outputs": [],
   "source": [
    "# 실행 해보기 5\n",
    "person = {'name': 'Alice', 'age': 25}\n",
    "    \n",
    "print(person.items())\n",
    "for k, v in person.items():\n",
    "    print(k, v) "
   ]
  },
  {
   "cell_type": "code",
   "execution_count": null,
   "metadata": {},
   "outputs": [],
   "source": [
    "# 실행 해보기 6\n",
    "person = {'name': 'Alice', 'age': 25}\n",
    "    \n",
    "print(person.pop('age'))  \n",
    "print(person) \n",
    "print(person.pop('country', None)) \n",
    "print(person.pop('country')) "
   ]
  },
  {
   "cell_type": "code",
   "execution_count": null,
   "metadata": {},
   "outputs": [],
   "source": [
    "# 실행 해보기 7\n",
    "person = {'name': 'Alice', 'age': 25}\n",
    "print(person.setdefault('country', 'KOREA')) \n",
    "print(person) "
   ]
  },
  {
   "cell_type": "code",
   "execution_count": null,
   "metadata": {},
   "outputs": [],
   "source": [
    "# 실행 해보기 8\n",
    "person = {'name': 'Alice', 'age': 25}\n",
    "other_person = {'name': 'Jane', 'gender': 'Female'}\n",
    "\n",
    "person.update(other_person)\n",
    "print(person)  \n",
    "\n",
    "person.update(age=50)\n",
    "print(person) \n",
    "\n",
    "person.update(country='KOREA')\n",
    "print(person)  "
   ]
  },
  {
   "attachments": {},
   "cell_type": "markdown",
   "metadata": {},
   "source": [
    "## 참고"
   ]
  },
  {
   "attachments": {},
   "cell_type": "markdown",
   "metadata": {},
   "source": [
    "#### 문자 유형 판별 메서드\n",
    "#### 문자열에 포함된 문자들의 유형을 판별하는 메서드\n",
    "- 문자열 구성이 모두 숫자로 이루어져 있는지 아닌지 판별\n",
    "\n",
    "- `isdecimal()`\n",
    "    - 문자열이 모두 숫자 문자(0~9)로만 이루어져 있어야 True\n",
    "    - 아라비아 숫자까지만 문자로 인식\n",
    "- `isdigit()`\n",
    "    - isdecimal()과 비슷하지만, 유니코드 숫자도 인식 ('①’ 도 숫자로 인식)\n",
    "- `isnumeric()`\n",
    "    - isdigit()과 유사하지만, 몇 가지 추가적인 유니코드 문자들을 인식 <br>(분수, 지수, 루트 기호도 숫자로 인식)\n",
    "\n"
   ]
  },
  {
   "attachments": {},
   "cell_type": "markdown",
   "metadata": {},
   "source": [
    "- `isdecimal()` ⊆ `isdigit()` ⊆ `isnumeric()`\n",
    "\n",
    "|     isdecimal()    \t|     isdigit()    \t|     isnumeric()    \t|                  예시                \t|\n",
    "|:------------------:\t|:----------------:\t|:------------------:\t|:------------------------------------:\t|\n",
    "|         True       \t|        True      \t|         True       \t|       \"038\",   \"੦੩੮\",   \"０３８\"     \t|\n",
    "|        False       \t|        True      \t|         True       \t|          \"⁰³⁸\"(지수), \"🄀⒊⒏\", \"⓪③⑧\"         \t|\n",
    "|        False       \t|       False      \t|         True       \t|     \"⅛⅘\", \"ⅠⅢⅧ\", \"⑩⑬㊿\", \"壹貳參\"    \t|\n",
    "|        False       \t|       False      \t|        False       \t|          \"abc\", \"38.0\", \"-38\"        \t|"
   ]
  },
  {
   "cell_type": "code",
   "execution_count": null,
   "metadata": {},
   "outputs": [],
   "source": [
    "# 참고\n",
    "# isdecimal() : 가장 엄격한 기준을 적용, 오직 일반적인 십진수 숫자(0-9)만 True로 인식\n",
    "print(\"isdecimal() 메서드 예시:\")\n",
    "print(\"'12345'.isdecimal():\", '12345'.isdecimal())\n",
    "print(\"'123.45'.isdecimal():\", '123.45'.isdecimal())\n",
    "print(\"'-123'.isdecimal():\", '-123'.isdecimal())\n",
    "print(\"'Ⅳ'.isdecimal():\", 'Ⅳ'.isdecimal())\n",
    "print(\"'½'.isdecimal():\", '½'.isdecimal())\n",
    "print(\"'²'.isdecimal():\", '²'.isdecimal())\n",
    "print()\n",
    "\n",
    "# isdigit() : 일반 숫자뿐만 아니라 지수 표현(²)도 True로 인식\n",
    "print(\"isdigit() 메서드 예시:\")\n",
    "print(\"'12345'.isdigit():\", '12345'.isdigit())\n",
    "print(\"'123.45'.isdigit():\", '123.45'.isdigit())\n",
    "print(\"'-123'.isdigit():\", '-123'.isdigit())\n",
    "print(\"'Ⅳ'.isdigit():\", 'Ⅳ'.isdigit())\n",
    "print(\"'½'.isdigit():\", '½'.isdigit())\n",
    "print(\"'²'.isdigit():\", '²'.isdigit())\n",
    "print()\n",
    "\n",
    "# isnumeric() : 일반 숫자, 로마 숫자, 분수, 지수 등 다양한 형태의 숫자 표현을 True로 인식\n",
    "print(\"isnumeric() 메서드 예시:\")\n",
    "print(\"'12345'.isnumeric():\", '12345'.isnumeric())\n",
    "print(\"'123.45'.isnumeric():\", '123.45'.isnumeric())\n",
    "print(\"'-123'.isnumeric():\", '-123'.isnumeric())\n",
    "print(\"'Ⅳ'.isnumeric():\", 'Ⅳ'.isnumeric())\n",
    "print(\"'½'.isnumeric():\", '½'.isnumeric())\n",
    "print(\"'²'.isnumeric():\", '²'.isnumeric())\n"
   ]
  }
 ],
 "metadata": {
  "kernelspec": {
   "display_name": "Python 3",
   "language": "python",
   "name": "python3"
  },
  "language_info": {
   "codemirror_mode": {
    "name": "ipython",
    "version": 3
   },
   "file_extension": ".py",
   "mimetype": "text/x-python",
   "name": "python",
   "nbconvert_exporter": "python",
   "pygments_lexer": "ipython3",
   "version": "3.9.13"
  },
  "orig_nbformat": 4
 },
 "nbformat": 4,
 "nbformat_minor": 2
}
